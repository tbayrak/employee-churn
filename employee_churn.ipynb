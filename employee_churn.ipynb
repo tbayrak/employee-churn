{
  "nbformat": 4,
  "nbformat_minor": 0,
  "metadata": {
    "colab": {
      "name": "employee_churn.ipynb",
      "provenance": [],
      "collapsed_sections": [],
      "toc_visible": true
    },
    "kernelspec": {
      "name": "python3",
      "display_name": "Python 3"
    }
  },
  "cells": [
    {
      "cell_type": "markdown",
      "metadata": {
        "id": "ekXntCbtEWx-"
      },
      "source": [
        "# Employee Attrition\n",
        "\n",
        "In this notebook, various models for predicting churning employees using Employee Attrition dataset were built. As a different approach from the other implementations, both sequential and non-sequential models were built with their ensemble models. Besides, the evaluation metrics for the minor class are calculated to be able to see if the models are successful or they just favor the major class (which commonly occurs with imbalanced datasets). The parameters for the models were determined via grid search. Apart from that, the k-fold cross-validation is applied for estimating the performance of the models.\n",
        "\n",
        "The sequential models : LSTM, GRU, Sequential Ensemble\n",
        "\n",
        "The non-sequential models : Decision Tree, Random Forest, K-Nearest Neighbors, Support Vector Classifier, Logistic Regression, Multilayer Perceptron, Non-Sequential Ensemble\n",
        "\n",
        "According to the results, Random Forest is the most successful one after the Non-Sequential Ensemble model when considering both classes. Due to the small amount of data, sequential models are not the best ones. The dataset does not have many features, but the approach can be used as preliminary work for more complicated employee churn models.\n",
        "\n",
        "* [Import Libraries](#1-import-libraries)\n",
        "* [Data Exploration](#2-data-exploration)\n",
        "* [Data Processing](#3-data-processing)\n",
        "    * [Clustering Cities by Population](#3-1-clustring-cities)\n",
        "    * [Clustering Job Titles](#3-2-clusterng-jobs)\n",
        "    * [Preparing Dataset for Modelling](#3-3-preparing-dataset)\n",
        "        * [Dummy Variable & Categorical Variable Encoding](#3-3-1-dummy-variable)\n",
        "        * [For Non Sequential Models](#3-3-2-nonseq-prepare)\n",
        "            * [Removing Duplicated Employees](#3-3-2-1-remove-duplicateds)\n",
        "            * [Dropping Unnecassary Features](#3-3-2-2-drop-unnec)\n",
        "        * [For Sequential Models](#3-3-3-seq-prepare)\n",
        "* [Modelling & Evaluation](#4-modelling-and-evaluation)\n",
        "    * [Non Sequential Models](#4-1-nonseq-models)\n",
        "        * [Decision Tree](#4-1-1-dt)\n",
        "        * [Logistic Regression](#4-1-2-lr)\n",
        "        * [KNN](#4-1-3-knn)\n",
        "        * [SVC](#4-1-4-svc)\n",
        "        * [Random Forest](#4-1-5-rf)\n",
        "        * [Neural Network](#4-1-6-nn)\n",
        "        * [Ensemble Model](#4-1-7-ensemble)\n",
        "        * [Evaluation](#4-1-8-eva)\n",
        "    * [Sequential Models](#4-2-seq)\n",
        "        * [Creating Sequential Data Structure](#4-2-1-seq-data)\n",
        "        * [LSTM](#4-2-2-lstm)\n",
        "        * [GRU](#4-2-3-gru)\n",
        "        * [Ensemble Model](#4-2-4-ensemble)\n",
        "        * [Evaluation](#4-2-5-evaluation)"
      ]
    },
    {
      "cell_type": "markdown",
      "metadata": {
        "id": "3J6Pv4vRE1DY"
      },
      "source": [
        "<a id=\"1-import-libraries\"></a>\n",
        "## Import Libraries"
      ]
    },
    {
      "cell_type": "code",
      "metadata": {
        "id": "g_KYXAeQI9OU"
      },
      "source": [
        "import pandas as pd\n",
        "import numpy as np\n",
        "import datetime as dt\n",
        "from dateutil import parser\n",
        "\n",
        "import seaborn as sns\n",
        "import matplotlib.pyplot as plt\n",
        "\n",
        "from sklearn.neighbors import KNeighborsClassifier\n",
        "from sklearn.svm import SVC\n",
        "from sklearn.ensemble import RandomForestClassifier\n",
        "from sklearn import tree\n",
        "from sklearn.neural_network import MLPClassifier\n",
        "from sklearn.linear_model import LogisticRegression\n",
        "\n",
        "from matplotlib import pyplot\n",
        "from sklearn.metrics import mean_squared_error\n",
        "from keras.models import Sequential\n",
        "from keras.layers import Dense\n",
        "from keras.layers import LSTM, GRU\n",
        "from keras.callbacks import EarlyStopping\n",
        "from keras.layers import Activation\n",
        "\n",
        "from sklearn.model_selection import train_test_split\n",
        "from sklearn.metrics import roc_curve, auc\n",
        "\n",
        "from sklearn.metrics import accuracy_score \n",
        "from sklearn.metrics import confusion_matrix as cm\n",
        "from sklearn.calibration import CalibratedClassifierCV\n",
        "from sklearn.model_selection import KFold \n",
        "from statistics import mean\n",
        "\n",
        "from mlxtend.frequent_patterns import apriori, association_rules \n",
        "\n",
        "import warnings\n",
        "warnings.filterwarnings(\"ignore\")"
      ],
      "execution_count": 54,
      "outputs": []
    },
    {
      "cell_type": "markdown",
      "metadata": {
        "id": "isOL9xLTE-oh"
      },
      "source": [
        "<a id=\"2-data-exploration\"></a>\n",
        "## Data Exploration"
      ]
    },
    {
      "cell_type": "code",
      "metadata": {
        "id": "KE1aQ3YSXykm"
      },
      "source": [
        "# Loads data\n",
        "dataset = pd.read_csv('https://raw.githubusercontent.com/teuschb/hr_data/master/datasets/MFG10YearTerminationData.csv')"
      ],
      "execution_count": 55,
      "outputs": []
    },
    {
      "cell_type": "code",
      "metadata": {
        "colab": {
          "base_uri": "https://localhost:8080/"
        },
        "id": "4-2efaKKmwXq",
        "outputId": "af684b15-9088-4350-f989-de288c6941bb"
      },
      "source": [
        "# Checks size of dataset\n",
        "dataset.shape"
      ],
      "execution_count": 56,
      "outputs": [
        {
          "output_type": "execute_result",
          "data": {
            "text/plain": [
              "(49653, 18)"
            ]
          },
          "metadata": {
            "tags": []
          },
          "execution_count": 56
        }
      ]
    },
    {
      "cell_type": "code",
      "metadata": {
        "colab": {
          "base_uri": "https://localhost:8080/"
        },
        "id": "J9OaYkDb_saf",
        "outputId": "f889f328-43fe-469f-9a60-1bab6dade40a"
      },
      "source": [
        "# Checks 18 columns names and types \n",
        "dataset.dtypes"
      ],
      "execution_count": 57,
      "outputs": [
        {
          "output_type": "execute_result",
          "data": {
            "text/plain": [
              "EmployeeID              int64\n",
              "recorddate_key         object\n",
              "birthdate_key          object\n",
              "orighiredate_key       object\n",
              "terminationdate_key    object\n",
              "age                     int64\n",
              "length_of_service       int64\n",
              "city_name              object\n",
              "department_name        object\n",
              "job_title              object\n",
              "store_name              int64\n",
              "gender_short           object\n",
              "gender_full            object\n",
              "termreason_desc        object\n",
              "termtype_desc          object\n",
              "STATUS_YEAR             int64\n",
              "STATUS                 object\n",
              "BUSINESS_UNIT          object\n",
              "dtype: object"
            ]
          },
          "metadata": {
            "tags": []
          },
          "execution_count": 57
        }
      ]
    },
    {
      "cell_type": "code",
      "metadata": {
        "colab": {
          "base_uri": "https://localhost:8080/"
        },
        "id": "ni-YBFB1H_hU",
        "outputId": "ae264106-c196-42e7-80b7-423d0eb2f9c3"
      },
      "source": [
        "# Checks categorical values\n",
        "categoricalValues = dataset.drop([\"recorddate_key\", \"birthdate_key\", \"orighiredate_key\", \"terminationdate_key\"], axis=1).select_dtypes(include=['object'])\n",
        "\n",
        "for col in categoricalValues:\n",
        "    print(\"Column Name: \" + col + \"\\nValues =>\")\n",
        "    print(categoricalValues[col].unique())\n",
        "    print(\"\\n\")"
      ],
      "execution_count": 58,
      "outputs": [
        {
          "output_type": "stream",
          "text": [
            "Column Name: city_name\n",
            "Values =>\n",
            "['Vancouver' 'Terrace' 'Nanaimo' 'Nelson' 'Kelowna' 'Victoria' 'Kamloops'\n",
            " 'Fort St John' 'Surrey' 'Vernon' 'Quesnel' 'Chilliwack' 'Dawson Creek'\n",
            " 'Squamish' 'New Westminster' 'Port Coquitlam' 'Cortes Island' 'Burnaby'\n",
            " 'Bella Bella' 'Cranbrook' 'Williams Lake' 'Trail' 'Prince George'\n",
            " 'Richmond' 'Grand Forks' 'West Vancouver' 'Abbotsford' 'Aldergrove'\n",
            " 'Langley' 'North Vancouver' 'White Rock' 'New Westminister' 'Fort Nelson'\n",
            " 'Haney' 'Valemount' 'Ocean Falls' 'Princeton' 'Dease Lake' 'Pitt Meadows'\n",
            " 'Blue River']\n",
            "\n",
            "\n",
            "Column Name: department_name\n",
            "Values =>\n",
            "['Executive' 'Store Management' 'Meats' 'Recruitment' 'Training'\n",
            " 'Labor Relations' 'HR Technology' 'Employee Records' 'Compensation'\n",
            " 'Legal' 'Produce' 'Accounts Receiveable' 'Bakery'\n",
            " 'Information Technology' 'Accounts Payable' 'Audit' 'Accounting'\n",
            " 'Investment' 'Dairy' 'Processed Foods' 'Customer Service']\n",
            "\n",
            "\n",
            "Column Name: job_title\n",
            "Values =>\n",
            "['CEO' 'VP Stores' 'Legal Counsel' 'VP Human Resources' 'VP Finance'\n",
            " 'Exec Assistant, VP Stores' 'Exec Assistant, Legal Counsel'\n",
            " 'CHief Information Officer' 'Store Manager' 'Meats Manager'\n",
            " 'Exec Assistant, Human Resources' 'Exec Assistant, Finance'\n",
            " 'Director, Recruitment' 'Director, Training' 'Director, Labor Relations'\n",
            " 'Director, HR Technology' 'Director, Employee Records'\n",
            " 'Director, Compensation' 'Corporate Lawyer' 'Produce Manager'\n",
            " 'Director, Accounts Receivable' 'Bakery Manager' 'Systems Analyst'\n",
            " 'Director, Accounts Payable' 'Director, Audit' 'Director, Accounting'\n",
            " 'Director, Investments' 'Dairy Person' 'Recruiter'\n",
            " 'Processed Foods Manager' 'Customer Service Manager' 'Trainer'\n",
            " 'Meat Cutter' 'Labor Relations Analyst' 'Dairy Manager' 'HRIS Analyst'\n",
            " 'Benefits Admin' 'Compensation Analyst' 'Accounts Receiveable Clerk'\n",
            " 'Accounts Payable Clerk' 'Baker' 'Auditor' 'Accounting Clerk'\n",
            " 'Investment Analyst' 'Produce Clerk' 'Shelf Stocker' 'Cashier']\n",
            "\n",
            "\n",
            "Column Name: gender_short\n",
            "Values =>\n",
            "['M' 'F']\n",
            "\n",
            "\n",
            "Column Name: gender_full\n",
            "Values =>\n",
            "['Male' 'Female']\n",
            "\n",
            "\n",
            "Column Name: termreason_desc\n",
            "Values =>\n",
            "['Not Applicable' 'Retirement' 'Resignaton' 'Layoff']\n",
            "\n",
            "\n",
            "Column Name: termtype_desc\n",
            "Values =>\n",
            "['Not Applicable' 'Voluntary' 'Involuntary']\n",
            "\n",
            "\n",
            "Column Name: STATUS\n",
            "Values =>\n",
            "['ACTIVE' 'TERMINATED']\n",
            "\n",
            "\n",
            "Column Name: BUSINESS_UNIT\n",
            "Values =>\n",
            "['HEADOFFICE' 'STORES']\n",
            "\n",
            "\n"
          ],
          "name": "stdout"
        }
      ]
    },
    {
      "cell_type": "code",
      "metadata": {
        "colab": {
          "base_uri": "https://localhost:8080/",
          "height": 211
        },
        "id": "E-QNyn2lF05y",
        "outputId": "296bc285-eec8-4ade-b150-2907a511caa1"
      },
      "source": [
        "# First 5 rows of dataset\n",
        "dataset.head(5)"
      ],
      "execution_count": 59,
      "outputs": [
        {
          "output_type": "execute_result",
          "data": {
            "text/html": [
              "<div>\n",
              "<style scoped>\n",
              "    .dataframe tbody tr th:only-of-type {\n",
              "        vertical-align: middle;\n",
              "    }\n",
              "\n",
              "    .dataframe tbody tr th {\n",
              "        vertical-align: top;\n",
              "    }\n",
              "\n",
              "    .dataframe thead th {\n",
              "        text-align: right;\n",
              "    }\n",
              "</style>\n",
              "<table border=\"1\" class=\"dataframe\">\n",
              "  <thead>\n",
              "    <tr style=\"text-align: right;\">\n",
              "      <th></th>\n",
              "      <th>EmployeeID</th>\n",
              "      <th>recorddate_key</th>\n",
              "      <th>birthdate_key</th>\n",
              "      <th>orighiredate_key</th>\n",
              "      <th>terminationdate_key</th>\n",
              "      <th>age</th>\n",
              "      <th>length_of_service</th>\n",
              "      <th>city_name</th>\n",
              "      <th>department_name</th>\n",
              "      <th>job_title</th>\n",
              "      <th>store_name</th>\n",
              "      <th>gender_short</th>\n",
              "      <th>gender_full</th>\n",
              "      <th>termreason_desc</th>\n",
              "      <th>termtype_desc</th>\n",
              "      <th>STATUS_YEAR</th>\n",
              "      <th>STATUS</th>\n",
              "      <th>BUSINESS_UNIT</th>\n",
              "    </tr>\n",
              "  </thead>\n",
              "  <tbody>\n",
              "    <tr>\n",
              "      <th>0</th>\n",
              "      <td>1318</td>\n",
              "      <td>12/31/2006 0:00</td>\n",
              "      <td>1/3/1954</td>\n",
              "      <td>8/28/1989</td>\n",
              "      <td>1/1/1900</td>\n",
              "      <td>52</td>\n",
              "      <td>17</td>\n",
              "      <td>Vancouver</td>\n",
              "      <td>Executive</td>\n",
              "      <td>CEO</td>\n",
              "      <td>35</td>\n",
              "      <td>M</td>\n",
              "      <td>Male</td>\n",
              "      <td>Not Applicable</td>\n",
              "      <td>Not Applicable</td>\n",
              "      <td>2006</td>\n",
              "      <td>ACTIVE</td>\n",
              "      <td>HEADOFFICE</td>\n",
              "    </tr>\n",
              "    <tr>\n",
              "      <th>1</th>\n",
              "      <td>1318</td>\n",
              "      <td>12/31/2007 0:00</td>\n",
              "      <td>1/3/1954</td>\n",
              "      <td>8/28/1989</td>\n",
              "      <td>1/1/1900</td>\n",
              "      <td>53</td>\n",
              "      <td>18</td>\n",
              "      <td>Vancouver</td>\n",
              "      <td>Executive</td>\n",
              "      <td>CEO</td>\n",
              "      <td>35</td>\n",
              "      <td>M</td>\n",
              "      <td>Male</td>\n",
              "      <td>Not Applicable</td>\n",
              "      <td>Not Applicable</td>\n",
              "      <td>2007</td>\n",
              "      <td>ACTIVE</td>\n",
              "      <td>HEADOFFICE</td>\n",
              "    </tr>\n",
              "    <tr>\n",
              "      <th>2</th>\n",
              "      <td>1318</td>\n",
              "      <td>12/31/2008 0:00</td>\n",
              "      <td>1/3/1954</td>\n",
              "      <td>8/28/1989</td>\n",
              "      <td>1/1/1900</td>\n",
              "      <td>54</td>\n",
              "      <td>19</td>\n",
              "      <td>Vancouver</td>\n",
              "      <td>Executive</td>\n",
              "      <td>CEO</td>\n",
              "      <td>35</td>\n",
              "      <td>M</td>\n",
              "      <td>Male</td>\n",
              "      <td>Not Applicable</td>\n",
              "      <td>Not Applicable</td>\n",
              "      <td>2008</td>\n",
              "      <td>ACTIVE</td>\n",
              "      <td>HEADOFFICE</td>\n",
              "    </tr>\n",
              "    <tr>\n",
              "      <th>3</th>\n",
              "      <td>1318</td>\n",
              "      <td>12/31/2009 0:00</td>\n",
              "      <td>1/3/1954</td>\n",
              "      <td>8/28/1989</td>\n",
              "      <td>1/1/1900</td>\n",
              "      <td>55</td>\n",
              "      <td>20</td>\n",
              "      <td>Vancouver</td>\n",
              "      <td>Executive</td>\n",
              "      <td>CEO</td>\n",
              "      <td>35</td>\n",
              "      <td>M</td>\n",
              "      <td>Male</td>\n",
              "      <td>Not Applicable</td>\n",
              "      <td>Not Applicable</td>\n",
              "      <td>2009</td>\n",
              "      <td>ACTIVE</td>\n",
              "      <td>HEADOFFICE</td>\n",
              "    </tr>\n",
              "    <tr>\n",
              "      <th>4</th>\n",
              "      <td>1318</td>\n",
              "      <td>12/31/2010 0:00</td>\n",
              "      <td>1/3/1954</td>\n",
              "      <td>8/28/1989</td>\n",
              "      <td>1/1/1900</td>\n",
              "      <td>56</td>\n",
              "      <td>21</td>\n",
              "      <td>Vancouver</td>\n",
              "      <td>Executive</td>\n",
              "      <td>CEO</td>\n",
              "      <td>35</td>\n",
              "      <td>M</td>\n",
              "      <td>Male</td>\n",
              "      <td>Not Applicable</td>\n",
              "      <td>Not Applicable</td>\n",
              "      <td>2010</td>\n",
              "      <td>ACTIVE</td>\n",
              "      <td>HEADOFFICE</td>\n",
              "    </tr>\n",
              "  </tbody>\n",
              "</table>\n",
              "</div>"
            ],
            "text/plain": [
              "   EmployeeID   recorddate_key birthdate_key  ... STATUS_YEAR  STATUS  BUSINESS_UNIT\n",
              "0        1318  12/31/2006 0:00      1/3/1954  ...        2006  ACTIVE     HEADOFFICE\n",
              "1        1318  12/31/2007 0:00      1/3/1954  ...        2007  ACTIVE     HEADOFFICE\n",
              "2        1318  12/31/2008 0:00      1/3/1954  ...        2008  ACTIVE     HEADOFFICE\n",
              "3        1318  12/31/2009 0:00      1/3/1954  ...        2009  ACTIVE     HEADOFFICE\n",
              "4        1318  12/31/2010 0:00      1/3/1954  ...        2010  ACTIVE     HEADOFFICE\n",
              "\n",
              "[5 rows x 18 columns]"
            ]
          },
          "metadata": {
            "tags": []
          },
          "execution_count": 59
        }
      ]
    },
    {
      "cell_type": "code",
      "metadata": {
        "id": "Z5a5USRYSeMz",
        "colab": {
          "base_uri": "https://localhost:8080/",
          "height": 355
        },
        "outputId": "c4d4e1a5-dd9f-4067-caf1-2557812329b3"
      },
      "source": [
        "# Checks records for Employee #1318\n",
        "dataset.loc[dataset['EmployeeID'] == 1318]"
      ],
      "execution_count": 60,
      "outputs": [
        {
          "output_type": "execute_result",
          "data": {
            "text/html": [
              "<div>\n",
              "<style scoped>\n",
              "    .dataframe tbody tr th:only-of-type {\n",
              "        vertical-align: middle;\n",
              "    }\n",
              "\n",
              "    .dataframe tbody tr th {\n",
              "        vertical-align: top;\n",
              "    }\n",
              "\n",
              "    .dataframe thead th {\n",
              "        text-align: right;\n",
              "    }\n",
              "</style>\n",
              "<table border=\"1\" class=\"dataframe\">\n",
              "  <thead>\n",
              "    <tr style=\"text-align: right;\">\n",
              "      <th></th>\n",
              "      <th>EmployeeID</th>\n",
              "      <th>recorddate_key</th>\n",
              "      <th>birthdate_key</th>\n",
              "      <th>orighiredate_key</th>\n",
              "      <th>terminationdate_key</th>\n",
              "      <th>age</th>\n",
              "      <th>length_of_service</th>\n",
              "      <th>city_name</th>\n",
              "      <th>department_name</th>\n",
              "      <th>job_title</th>\n",
              "      <th>store_name</th>\n",
              "      <th>gender_short</th>\n",
              "      <th>gender_full</th>\n",
              "      <th>termreason_desc</th>\n",
              "      <th>termtype_desc</th>\n",
              "      <th>STATUS_YEAR</th>\n",
              "      <th>STATUS</th>\n",
              "      <th>BUSINESS_UNIT</th>\n",
              "    </tr>\n",
              "  </thead>\n",
              "  <tbody>\n",
              "    <tr>\n",
              "      <th>0</th>\n",
              "      <td>1318</td>\n",
              "      <td>12/31/2006 0:00</td>\n",
              "      <td>1/3/1954</td>\n",
              "      <td>8/28/1989</td>\n",
              "      <td>1/1/1900</td>\n",
              "      <td>52</td>\n",
              "      <td>17</td>\n",
              "      <td>Vancouver</td>\n",
              "      <td>Executive</td>\n",
              "      <td>CEO</td>\n",
              "      <td>35</td>\n",
              "      <td>M</td>\n",
              "      <td>Male</td>\n",
              "      <td>Not Applicable</td>\n",
              "      <td>Not Applicable</td>\n",
              "      <td>2006</td>\n",
              "      <td>ACTIVE</td>\n",
              "      <td>HEADOFFICE</td>\n",
              "    </tr>\n",
              "    <tr>\n",
              "      <th>1</th>\n",
              "      <td>1318</td>\n",
              "      <td>12/31/2007 0:00</td>\n",
              "      <td>1/3/1954</td>\n",
              "      <td>8/28/1989</td>\n",
              "      <td>1/1/1900</td>\n",
              "      <td>53</td>\n",
              "      <td>18</td>\n",
              "      <td>Vancouver</td>\n",
              "      <td>Executive</td>\n",
              "      <td>CEO</td>\n",
              "      <td>35</td>\n",
              "      <td>M</td>\n",
              "      <td>Male</td>\n",
              "      <td>Not Applicable</td>\n",
              "      <td>Not Applicable</td>\n",
              "      <td>2007</td>\n",
              "      <td>ACTIVE</td>\n",
              "      <td>HEADOFFICE</td>\n",
              "    </tr>\n",
              "    <tr>\n",
              "      <th>2</th>\n",
              "      <td>1318</td>\n",
              "      <td>12/31/2008 0:00</td>\n",
              "      <td>1/3/1954</td>\n",
              "      <td>8/28/1989</td>\n",
              "      <td>1/1/1900</td>\n",
              "      <td>54</td>\n",
              "      <td>19</td>\n",
              "      <td>Vancouver</td>\n",
              "      <td>Executive</td>\n",
              "      <td>CEO</td>\n",
              "      <td>35</td>\n",
              "      <td>M</td>\n",
              "      <td>Male</td>\n",
              "      <td>Not Applicable</td>\n",
              "      <td>Not Applicable</td>\n",
              "      <td>2008</td>\n",
              "      <td>ACTIVE</td>\n",
              "      <td>HEADOFFICE</td>\n",
              "    </tr>\n",
              "    <tr>\n",
              "      <th>3</th>\n",
              "      <td>1318</td>\n",
              "      <td>12/31/2009 0:00</td>\n",
              "      <td>1/3/1954</td>\n",
              "      <td>8/28/1989</td>\n",
              "      <td>1/1/1900</td>\n",
              "      <td>55</td>\n",
              "      <td>20</td>\n",
              "      <td>Vancouver</td>\n",
              "      <td>Executive</td>\n",
              "      <td>CEO</td>\n",
              "      <td>35</td>\n",
              "      <td>M</td>\n",
              "      <td>Male</td>\n",
              "      <td>Not Applicable</td>\n",
              "      <td>Not Applicable</td>\n",
              "      <td>2009</td>\n",
              "      <td>ACTIVE</td>\n",
              "      <td>HEADOFFICE</td>\n",
              "    </tr>\n",
              "    <tr>\n",
              "      <th>4</th>\n",
              "      <td>1318</td>\n",
              "      <td>12/31/2010 0:00</td>\n",
              "      <td>1/3/1954</td>\n",
              "      <td>8/28/1989</td>\n",
              "      <td>1/1/1900</td>\n",
              "      <td>56</td>\n",
              "      <td>21</td>\n",
              "      <td>Vancouver</td>\n",
              "      <td>Executive</td>\n",
              "      <td>CEO</td>\n",
              "      <td>35</td>\n",
              "      <td>M</td>\n",
              "      <td>Male</td>\n",
              "      <td>Not Applicable</td>\n",
              "      <td>Not Applicable</td>\n",
              "      <td>2010</td>\n",
              "      <td>ACTIVE</td>\n",
              "      <td>HEADOFFICE</td>\n",
              "    </tr>\n",
              "    <tr>\n",
              "      <th>5</th>\n",
              "      <td>1318</td>\n",
              "      <td>12/31/2011 0:00</td>\n",
              "      <td>1/3/1954</td>\n",
              "      <td>8/28/1989</td>\n",
              "      <td>1/1/1900</td>\n",
              "      <td>57</td>\n",
              "      <td>22</td>\n",
              "      <td>Vancouver</td>\n",
              "      <td>Executive</td>\n",
              "      <td>CEO</td>\n",
              "      <td>35</td>\n",
              "      <td>M</td>\n",
              "      <td>Male</td>\n",
              "      <td>Not Applicable</td>\n",
              "      <td>Not Applicable</td>\n",
              "      <td>2011</td>\n",
              "      <td>ACTIVE</td>\n",
              "      <td>HEADOFFICE</td>\n",
              "    </tr>\n",
              "    <tr>\n",
              "      <th>6</th>\n",
              "      <td>1318</td>\n",
              "      <td>12/31/2012 0:00</td>\n",
              "      <td>1/3/1954</td>\n",
              "      <td>8/28/1989</td>\n",
              "      <td>1/1/1900</td>\n",
              "      <td>58</td>\n",
              "      <td>23</td>\n",
              "      <td>Vancouver</td>\n",
              "      <td>Executive</td>\n",
              "      <td>CEO</td>\n",
              "      <td>35</td>\n",
              "      <td>M</td>\n",
              "      <td>Male</td>\n",
              "      <td>Not Applicable</td>\n",
              "      <td>Not Applicable</td>\n",
              "      <td>2012</td>\n",
              "      <td>ACTIVE</td>\n",
              "      <td>HEADOFFICE</td>\n",
              "    </tr>\n",
              "    <tr>\n",
              "      <th>7</th>\n",
              "      <td>1318</td>\n",
              "      <td>12/31/2013 0:00</td>\n",
              "      <td>1/3/1954</td>\n",
              "      <td>8/28/1989</td>\n",
              "      <td>1/1/1900</td>\n",
              "      <td>59</td>\n",
              "      <td>24</td>\n",
              "      <td>Vancouver</td>\n",
              "      <td>Executive</td>\n",
              "      <td>CEO</td>\n",
              "      <td>35</td>\n",
              "      <td>M</td>\n",
              "      <td>Male</td>\n",
              "      <td>Not Applicable</td>\n",
              "      <td>Not Applicable</td>\n",
              "      <td>2013</td>\n",
              "      <td>ACTIVE</td>\n",
              "      <td>HEADOFFICE</td>\n",
              "    </tr>\n",
              "    <tr>\n",
              "      <th>8</th>\n",
              "      <td>1318</td>\n",
              "      <td>12/31/2014 0:00</td>\n",
              "      <td>1/3/1954</td>\n",
              "      <td>8/28/1989</td>\n",
              "      <td>1/1/1900</td>\n",
              "      <td>60</td>\n",
              "      <td>25</td>\n",
              "      <td>Vancouver</td>\n",
              "      <td>Executive</td>\n",
              "      <td>CEO</td>\n",
              "      <td>35</td>\n",
              "      <td>M</td>\n",
              "      <td>Male</td>\n",
              "      <td>Not Applicable</td>\n",
              "      <td>Not Applicable</td>\n",
              "      <td>2014</td>\n",
              "      <td>ACTIVE</td>\n",
              "      <td>HEADOFFICE</td>\n",
              "    </tr>\n",
              "    <tr>\n",
              "      <th>9</th>\n",
              "      <td>1318</td>\n",
              "      <td>12/31/2015 0:00</td>\n",
              "      <td>1/3/1954</td>\n",
              "      <td>8/28/1989</td>\n",
              "      <td>1/1/1900</td>\n",
              "      <td>61</td>\n",
              "      <td>26</td>\n",
              "      <td>Vancouver</td>\n",
              "      <td>Executive</td>\n",
              "      <td>CEO</td>\n",
              "      <td>35</td>\n",
              "      <td>M</td>\n",
              "      <td>Male</td>\n",
              "      <td>Not Applicable</td>\n",
              "      <td>Not Applicable</td>\n",
              "      <td>2015</td>\n",
              "      <td>ACTIVE</td>\n",
              "      <td>HEADOFFICE</td>\n",
              "    </tr>\n",
              "  </tbody>\n",
              "</table>\n",
              "</div>"
            ],
            "text/plain": [
              "   EmployeeID   recorddate_key birthdate_key  ... STATUS_YEAR  STATUS  BUSINESS_UNIT\n",
              "0        1318  12/31/2006 0:00      1/3/1954  ...        2006  ACTIVE     HEADOFFICE\n",
              "1        1318  12/31/2007 0:00      1/3/1954  ...        2007  ACTIVE     HEADOFFICE\n",
              "2        1318  12/31/2008 0:00      1/3/1954  ...        2008  ACTIVE     HEADOFFICE\n",
              "3        1318  12/31/2009 0:00      1/3/1954  ...        2009  ACTIVE     HEADOFFICE\n",
              "4        1318  12/31/2010 0:00      1/3/1954  ...        2010  ACTIVE     HEADOFFICE\n",
              "5        1318  12/31/2011 0:00      1/3/1954  ...        2011  ACTIVE     HEADOFFICE\n",
              "6        1318  12/31/2012 0:00      1/3/1954  ...        2012  ACTIVE     HEADOFFICE\n",
              "7        1318  12/31/2013 0:00      1/3/1954  ...        2013  ACTIVE     HEADOFFICE\n",
              "8        1318  12/31/2014 0:00      1/3/1954  ...        2014  ACTIVE     HEADOFFICE\n",
              "9        1318  12/31/2015 0:00      1/3/1954  ...        2015  ACTIVE     HEADOFFICE\n",
              "\n",
              "[10 rows x 18 columns]"
            ]
          },
          "metadata": {
            "tags": []
          },
          "execution_count": 60
        }
      ]
    },
    {
      "cell_type": "markdown",
      "metadata": {
        "id": "T6czy8I6v6hF"
      },
      "source": [
        "<a id=\"3-data-processing\"></a>\n",
        "## Data Processing"
      ]
    },
    {
      "cell_type": "code",
      "metadata": {
        "colab": {
          "base_uri": "https://localhost:8080/",
          "height": 47
        },
        "id": "ebWksvc6WdAA",
        "outputId": "52adf068-23c0-4344-da95-555e5b9b7cb4"
      },
      "source": [
        "# Lists if any changes on ['city_name','department_name','job_title','BUSINESS_UNIT'] for all duplicated EmployeeIDs\n",
        "newDataset = dataset[['EmployeeID', 'city_name', 'department_name', 'job_title', 'BUSINESS_UNIT']]\n",
        "newDataset = newDataset[newDataset.duplicated('EmployeeID', keep=False)]\n",
        "duplicateds = newDataset[newDataset.duplicated(keep='last')]\n",
        "\n",
        "merged = pd.merge(newDataset,duplicateds, how='outer', indicator=True)\n",
        "merged.loc[merged._merge == 'left_only', ['EmployeeID']]\n"
      ],
      "execution_count": 61,
      "outputs": [
        {
          "output_type": "execute_result",
          "data": {
            "text/html": [
              "<div>\n",
              "<style scoped>\n",
              "    .dataframe tbody tr th:only-of-type {\n",
              "        vertical-align: middle;\n",
              "    }\n",
              "\n",
              "    .dataframe tbody tr th {\n",
              "        vertical-align: top;\n",
              "    }\n",
              "\n",
              "    .dataframe thead th {\n",
              "        text-align: right;\n",
              "    }\n",
              "</style>\n",
              "<table border=\"1\" class=\"dataframe\">\n",
              "  <thead>\n",
              "    <tr style=\"text-align: right;\">\n",
              "      <th></th>\n",
              "      <th>EmployeeID</th>\n",
              "    </tr>\n",
              "  </thead>\n",
              "  <tbody>\n",
              "  </tbody>\n",
              "</table>\n",
              "</div>"
            ],
            "text/plain": [
              "Empty DataFrame\n",
              "Columns: [EmployeeID]\n",
              "Index: []"
            ]
          },
          "metadata": {
            "tags": []
          },
          "execution_count": 61
        }
      ]
    },
    {
      "cell_type": "markdown",
      "metadata": {
        "id": "l5Vc-D48BU_r"
      },
      "source": [
        "We saw there is no changes on above columns for same employee. So we going to remove duplicated ones in section [Removing Duplicated Employees](#remove_duplicated) for non sequential models"
      ]
    },
    {
      "cell_type": "code",
      "metadata": {
        "colab": {
          "base_uri": "https://localhost:8080/",
          "height": 327
        },
        "id": "-NPiQuNiH_O8",
        "outputId": "b3a28bbb-80a3-47ea-848f-e239ab3eeb42"
      },
      "source": [
        "# Checks Active and Terminated columns because we keep last ones\n",
        "statusTerminatedCount = len(dataset[dataset.STATUS == \"TERMINATED\"])\n",
        "statusActiveCount = len(dataset[dataset.STATUS == \"ACTIVE\"])\n",
        "\n",
        "plt.bar([\"Terminated\", \"Active\"],[statusTerminatedCount, statusActiveCount])\n",
        "plt.xlabel(\"Employees\")\n",
        "plt.ylabel(\"Count\")\n",
        "plt.title(\"Working Status\")\n",
        "plt.show()\n",
        "print(\"Terminated: \", statusTerminatedCount)\n",
        "print(\"Active: \", statusActiveCount)\n"
      ],
      "execution_count": 62,
      "outputs": [
        {
          "output_type": "display_data",
          "data": {
            "image/png": "[encoded data removed]",
            "text/plain": [
              "<Figure size 432x288 with 1 Axes>"
            ]
          },
          "metadata": {
            "tags": [],
            "needs_background": "light"
          }
        },
        {
          "output_type": "stream",
          "text": [
            "Terminated:  1485\n",
            "Active:  48168\n"
          ],
          "name": "stdout"
        }
      ]
    },
    {
      "cell_type": "markdown",
      "metadata": {
        "id": "87UogjWawK5h"
      },
      "source": [
        "<a id=\"3-1-clustring-cities\"></a>\n",
        "### Clustering Cities by Population"
      ]
    },
    {
      "cell_type": "code",
      "metadata": {
        "id": "TRxQ5Qt6RyDs"
      },
      "source": [
        "# Makes cities dummy with their population\n",
        "city_pop_2020 = {'Vancouver':2313328,\n",
        "                 'Victoria':289625,\n",
        "                 'Nanaimo':84905,\n",
        "                 'New Westminster':58549,\n",
        "                 'Kelowna':125109,\n",
        "                 'Burnaby':202799,\n",
        "                 'Kamloops':68714,\n",
        "                 'Prince George':65558,\n",
        "                 'Cranbrook':18610,\n",
        "                 'Surrey':394976,\n",
        "                 'Richmond':182000,\n",
        "                 'Terrace':19443,\n",
        "                 'Chilliwack':77000,\n",
        "                 'Trail':9707,\n",
        "                 'Langley':23606,\n",
        "                 'Vernon':47274,\n",
        "                 'Squamish':19512,\n",
        "                 'Quesnel':13799,\n",
        "                 'Abbotsford':151683,\n",
        "                 'North Vancouver':48000,\n",
        "                 'Fort St John':17402,\n",
        "                 'Williams Lake':14168,\n",
        "                 'West Vancouver':42694,\n",
        "                 'Port Coquitlam':114565,\n",
        "                 'Aldergrove':12363,\n",
        "                 'Fort Nelson':3561,\n",
        "                 'Nelson':9813,\n",
        "                 'New Westminister':58549,\n",
        "                 'Grand Forks':4049,\n",
        "                 'White Rock':66450,\n",
        "                 'Haney':82256,\n",
        "                 'Princeton':2828,\n",
        "                 'Dawson Creek':10802,\n",
        "                 'Bella Bella':1019,\n",
        "                 'Ocean Falls':129,\n",
        "                 'Pitt Meadows':174410,\n",
        "                 'Cortes Island':1042,\n",
        "                 'Valemount':1021,\n",
        "                 'Dease Lake':335,\n",
        "                 'Blue River':157}\n",
        "#Make a copy of city names\n",
        "dataset['Pop'] = dataset['city_name']\n",
        "\n",
        "# Map from city name to population\n",
        "dataset['Pop'] = dataset.Pop.map(city_pop_2020)\n",
        "\n",
        "# Make a new column for population category\n",
        "dataset['Pop_category'] = dataset.Pop\n",
        "\n",
        "# Categorise according to population size\n",
        "# >= 100,000 is City\n",
        "# 10,000 to 99,999 is Rural\n",
        "# < 10,000 is Remote\n",
        "# Data is taken from https://worldpopulationreview.com/countries/cities/canada\n",
        "city_ix = (dataset['Pop'] >= 100000)\n",
        "rural_ix = ((dataset['Pop'] < 100000) & (dataset['Pop'] >= 10000))\n",
        "remote_ix = (dataset['Pop'] < 10000)\n",
        "dataset.loc[city_ix, 'Pop_category'] = 'City'\n",
        "dataset.loc[rural_ix, 'Pop_category'] = 'Rural'\n",
        "dataset.loc[remote_ix, 'Pop_category'] = 'Remote'\n",
        "\n",
        "dataset['Pop_category'] = dataset['Pop_category'].map({'City' : 0, 'Rural' : 1, 'Remote' : 2})"
      ],
      "execution_count": 63,
      "outputs": []
    },
    {
      "cell_type": "markdown",
      "metadata": {
        "id": "M8reylRswZnn"
      },
      "source": [
        "<a id=\"3-2-clusterng-jobs\"></a>\n",
        "### Clustering Job Titles"
      ]
    },
    {
      "cell_type": "code",
      "metadata": {
        "id": "85NiFCJARJrn"
      },
      "source": [
        "# Clusters job title\n",
        "board = ['VP Stores', 'Director, Recruitment', 'VP Human Resources', 'VP Finance',\n",
        "         'Director, Accounts Receivable', 'Director, Accounting',\n",
        "         'Director, Employee Records', 'Director, Accounts Payable',\n",
        "         'Director, HR Technology', 'Director, Investments',\n",
        "         'Director, Labor Relations', 'Director, Audit', 'Director, Training',\n",
        "         'Director, Compensation']\n",
        "\n",
        "executive = ['Exec Assistant, Finance', 'Exec Assistant, Legal Counsel',\n",
        "             'CHief Information Officer', 'CEO', 'Exec Assistant, Human Resources',\n",
        "             'Exec Assistant, VP Stores']\n",
        "\n",
        "manager = ['Customer Service Manager', 'Processed Foods Manager', 'Meats Manager',\n",
        "           'Bakery Manager', 'Produce Manager', 'Store Manager', 'Trainer', 'Dairy Manager']\n",
        "\n",
        "\n",
        "employee = ['Meat Cutter', 'Dairy Person', 'Produce Clerk', 'Baker', 'Cashier',\n",
        "            'Shelf Stocker', 'Recruiter', 'HRIS Analyst', 'Accounting Clerk',\n",
        "            'Benefits Admin', 'Labor Relations Analyst', 'Accounts Receiveable Clerk',\n",
        "            'Accounts Payable Clerk', 'Auditor', 'Compensation Analyst',\n",
        "            'Investment Analyst', 'Systems Analyst', 'Corporate Lawyer', 'Legal Counsel']\n",
        "\n",
        "def changeTitle(row):\n",
        "    if row in board:\n",
        "        return 'board'\n",
        "    elif row in executive:\n",
        "        return 'executive'\n",
        "    elif row in manager:\n",
        "        return 'manager'\n",
        "    else:\n",
        "        return 'employee'\n",
        "    \n",
        "dataset['job_title'] = dataset['job_title'].apply(changeTitle)"
      ],
      "execution_count": 64,
      "outputs": []
    },
    {
      "cell_type": "markdown",
      "metadata": {
        "id": "rqA8DaapH8VL"
      },
      "source": [
        "<a id=\"3-3-preparing-dataset\"></a>\n",
        "### Preparing Dataset for Modelling"
      ]
    },
    {
      "cell_type": "markdown",
      "metadata": {
        "id": "srZMHZTrJbqI"
      },
      "source": [
        "<a id=\"3-3-1-dummy-variable\"></a>\n",
        "#### Dummy Variable & Categorical Variable Encoding"
      ]
    },
    {
      "cell_type": "code",
      "metadata": {
        "id": "KpAoz28nJZLm"
      },
      "source": [
        "# Makes all values useful for modelling\n",
        "dataset = pd.get_dummies(dataset,columns=['job_title'])\n",
        "dataset['gender'] = dataset['gender_short'].replace({'F':1, 'M':0})\n",
        "dataset['status'] = dataset['STATUS'].replace({'ACTIVE':1, 'TERMINATED':0})\n",
        "dataset['BUSINESS_UNIT'] = dataset['BUSINESS_UNIT'].replace({'STORES':1, 'HEADOFFICE':0})"
      ],
      "execution_count": 65,
      "outputs": []
    },
    {
      "cell_type": "markdown",
      "metadata": {
        "id": "w6ER6Y0RIFuo"
      },
      "source": [
        "<a id=\"3-3-2-nonseq-prepare\"></a>\n",
        "#### For Non Sequential Models"
      ]
    },
    {
      "cell_type": "markdown",
      "metadata": {
        "id": "wCo_lUVy965O"
      },
      "source": [
        "<a id=\"3-3-2-1-remove-duplicateds\"></a>\n",
        "##### Removing Duplicated Employees"
      ]
    },
    {
      "cell_type": "code",
      "metadata": {
        "id": "CSxjuEDo965X"
      },
      "source": [
        "# Makes all employees unique because there is no change on categoric columns\n",
        "# Keeps last records\n",
        "\n",
        "nonSequentialData = dataset.sort_values(['EmployeeID', 'length_of_service'], ascending=[True, True]).drop_duplicates('EmployeeID', keep='last').reset_index(drop=True)"
      ],
      "execution_count": 66,
      "outputs": []
    },
    {
      "cell_type": "code",
      "metadata": {
        "colab": {
          "base_uri": "https://localhost:8080/",
          "height": 327
        },
        "id": "Pxs_M3oM965Z",
        "outputId": "44f6fc99-039f-4b1d-bfe3-0d0c4c76ba81"
      },
      "source": [
        "# Checks Active and Terminated columns because we keep last ones\n",
        "statusTerminatedCount = len(nonSequentialData[nonSequentialData.STATUS == \"TERMINATED\"])\n",
        "statusActiveCount = len(nonSequentialData[nonSequentialData.STATUS == \"ACTIVE\"])\n",
        "\n",
        "plt.bar([\"Terminated\", \"Active\"],[statusTerminatedCount, statusActiveCount])\n",
        "plt.xlabel(\"Employees\")\n",
        "plt.ylabel(\"Count\")\n",
        "plt.title(\"Working Status\")\n",
        "plt.show()\n",
        "print(\"Terminated: \", statusTerminatedCount)\n",
        "print(\"Active: \", statusActiveCount)\n"
      ],
      "execution_count": 67,
      "outputs": [
        {
          "output_type": "display_data",
          "data": {
            "image/png": "[encoded data removed]",
            "text/plain": [
              "<Figure size 432x288 with 1 Axes>"
            ]
          },
          "metadata": {
            "tags": [],
            "needs_background": "light"
          }
        },
        {
          "output_type": "stream",
          "text": [
            "Terminated:  1485\n",
            "Active:  4799\n"
          ],
          "name": "stdout"
        }
      ]
    },
    {
      "cell_type": "markdown",
      "metadata": {
        "id": "dMyR05dHxB3r"
      },
      "source": [
        "<a id=\"3-3-2-2-drop-unnec\"></a>\n",
        "##### Dropping Unnecassary Features"
      ]
    },
    {
      "cell_type": "code",
      "metadata": {
        "id": "KesKnxJft-p0",
        "colab": {
          "base_uri": "https://localhost:8080/",
          "height": 368
        },
        "outputId": "4388d4d3-373a-438d-a367-601e7bb56eca"
      },
      "source": [
        "# Correlation Map\n",
        "sns.heatmap(nonSequentialData.corr())"
      ],
      "execution_count": 68,
      "outputs": [
        {
          "output_type": "execute_result",
          "data": {
            "text/plain": [
              "<matplotlib.axes._subplots.AxesSubplot at 0x7f8a025da8d0>"
            ]
          },
          "metadata": {
            "tags": []
          },
          "execution_count": 68
        },
        {
          "output_type": "display_data",
          "data": {
            "image/png": "[encoded data removed]",
            "text/plain": [
              "<Figure size 432x288 with 2 Axes>"
            ]
          },
          "metadata": {
            "tags": [],
            "needs_background": "light"
          }
        }
      ]
    },
    {
      "cell_type": "code",
      "metadata": {
        "id": "R9V3Q2jIuUFw",
        "colab": {
          "base_uri": "https://localhost:8080/"
        },
        "outputId": "9f589823-ea5f-4aa0-9817-ea502fd06c9c"
      },
      "source": [
        "# Sorted absolute values of correalation matrix\n",
        "nonSequentialData.corr().abs()['status'].sort_values(ascending=False)"
      ],
      "execution_count": 69,
      "outputs": [
        {
          "output_type": "execute_result",
          "data": {
            "text/plain": [
              "status                 1.000000\n",
              "STATUS_YEAR            0.782497\n",
              "age                    0.264318\n",
              "EmployeeID             0.178260\n",
              "job_title_employee     0.177928\n",
              "job_title_manager      0.174992\n",
              "BUSINESS_UNIT          0.167382\n",
              "length_of_service      0.121367\n",
              "Pop_category           0.109118\n",
              "gender                 0.105256\n",
              "store_name             0.061885\n",
              "job_title_board        0.053165\n",
              "Pop                    0.034909\n",
              "job_title_executive    0.017197\n",
              "Name: status, dtype: float64"
            ]
          },
          "metadata": {
            "tags": []
          },
          "execution_count": 69
        }
      ]
    },
    {
      "cell_type": "code",
      "metadata": {
        "id": "7v1xh3JPxjiw"
      },
      "source": [
        "# Dropping operation\n",
        "nonSequentialData = nonSequentialData.drop(\n",
        "    [\n",
        "     'gender_short', 'gender_full', 'STATUS',\n",
        "     'city_name', 'EmployeeID', 'recorddate_key',\n",
        "     'birthdate_key', 'orighiredate_key', 'terminationdate_key',\n",
        "     'department_name','termreason_desc', 'termtype_desc'\n",
        "     ], \n",
        "     axis=1\n",
        ")"
      ],
      "execution_count": 70,
      "outputs": []
    },
    {
      "cell_type": "markdown",
      "metadata": {
        "id": "6L4boFlkIFjn"
      },
      "source": [
        "<a id=\"3-3-3-seq-prepare\"></a>\n",
        "#### For Sequential Models"
      ]
    },
    {
      "cell_type": "code",
      "metadata": {
        "id": "kf89rsxrxZR2"
      },
      "source": [
        "# Keeps EmployeeID and recorddate_key\n",
        "sequentialData = dataset.drop(\n",
        "    [\n",
        "     'gender_short', 'gender_full', 'STATUS',\n",
        "     'city_name',\n",
        "     'birthdate_key', 'orighiredate_key', 'terminationdate_key',\n",
        "     'department_name','termreason_desc', 'termtype_desc'\n",
        "     ], \n",
        "     axis=1\n",
        ")"
      ],
      "execution_count": 71,
      "outputs": []
    },
    {
      "cell_type": "markdown",
      "metadata": {
        "id": "QUfmRGhrvQFt"
      },
      "source": [
        "<a id=\"4-modelling-and-evaluation\"></a>\n",
        "## Modelling & Evaluation"
      ]
    },
    {
      "cell_type": "markdown",
      "metadata": {
        "id": "kbRQTIrCULz0"
      },
      "source": [
        "<a id=\"4-1-nonseq-models\"></a>\n",
        "### Non Sequential Models"
      ]
    },
    {
      "cell_type": "code",
      "metadata": {
        "id": "w233VO9QyBLy"
      },
      "source": [
        "# Seperates labeled value\n",
        "label = nonSequentialData.status\n",
        "nonSequentialData = nonSequentialData.drop('status', axis=1)"
      ],
      "execution_count": 72,
      "outputs": []
    },
    {
      "cell_type": "code",
      "metadata": {
        "id": "yDaAIAuF9VlR"
      },
      "source": [
        "# Split data as test and train\n",
        "x_train, x_test, y_train, y_test = train_test_split(nonSequentialData, label, test_size=0.3,\n",
        "                                                    random_state=10)"
      ],
      "execution_count": 73,
      "outputs": []
    },
    {
      "cell_type": "code",
      "metadata": {
        "id": "uPvFuQqWosl0"
      },
      "source": [
        "def prediction(model, is_svc=False):\n",
        "  model.fit(x_train, y_train)\n",
        "  y_pred = model.predict(x_test)\n",
        "  score = round(accuracy_score(y_test, y_pred), 3)\n",
        "\n",
        "  cm1 = cm(y_test, y_pred)\n",
        "\n",
        "  sns.heatmap(cm1, annot=True, fmt=\".0f\")\n",
        "  plt.xlabel('Predicted Values')\n",
        "  plt.ylabel('Actual Values')\n",
        "  plt.title('Accuracy Score: {0}'.format(score), size = 15)\n",
        "  plt.show()\n",
        "\n",
        "  y_proba = None\n",
        "\n",
        "  if not is_svc:\n",
        "    y_proba = model.predict_proba(x_test)\n",
        "  else:\n",
        "    model = CalibratedClassifierCV(model) \n",
        "    model.fit(x_train, y_train)\n",
        "    y_proba = model.predict_proba(x_test)\n",
        "\n",
        "  return y_pred, y_proba"
      ],
      "execution_count": 74,
      "outputs": []
    },
    {
      "cell_type": "markdown",
      "metadata": {
        "id": "AZBZ5o2VVdsV"
      },
      "source": [
        "<a id=\"4-1-1-dt\"></a>\n",
        "#### Decision Tree"
      ]
    },
    {
      "cell_type": "code",
      "metadata": {
        "colab": {
          "base_uri": "https://localhost:8080/",
          "height": 297
        },
        "id": "vmjq-KajWUHj",
        "outputId": "d125c231-58a0-4221-8039-b276a3dd81a1"
      },
      "source": [
        "model_dt = tree.DecisionTreeClassifier()\n",
        "y_pred_dt, y_proba_dt = prediction(model_dt)"
      ],
      "execution_count": 75,
      "outputs": [
        {
          "output_type": "display_data",
          "data": {
            "image/png": "[encoded data removed]",
            "text/plain": [
              "<Figure size 432x288 with 2 Axes>"
            ]
          },
          "metadata": {
            "tags": [],
            "needs_background": "light"
          }
        }
      ]
    },
    {
      "cell_type": "markdown",
      "metadata": {
        "id": "tkBmMNECW57T"
      },
      "source": [
        "<a id=\"4-1-2-lr\"></a>\n",
        "#### Logistic Regression"
      ]
    },
    {
      "cell_type": "code",
      "metadata": {
        "colab": {
          "base_uri": "https://localhost:8080/",
          "height": 297
        },
        "id": "wS7OuvlnW66L",
        "outputId": "95b72085-1d1b-41e7-ff55-24478860e782"
      },
      "source": [
        "model_lr = LogisticRegression(C=0.001, penalty='l2')\n",
        "y_pred_lr, y_proba_lr = prediction(model_lr)"
      ],
      "execution_count": 76,
      "outputs": [
        {
          "output_type": "display_data",
          "data": {
            "image/png": "[encoded data removed]",
            "text/plain": [
              "<Figure size 432x288 with 2 Axes>"
            ]
          },
          "metadata": {
            "tags": [],
            "needs_background": "light"
          }
        }
      ]
    },
    {
      "cell_type": "markdown",
      "metadata": {
        "id": "CxkcBAMTVy3B"
      },
      "source": [
        "<a id=\"4-1-3-knn\"></a>\n",
        "#### KNN"
      ]
    },
    {
      "cell_type": "code",
      "metadata": {
        "colab": {
          "base_uri": "https://localhost:8080/",
          "height": 297
        },
        "id": "4030xseD9wn_",
        "outputId": "379fab84-ec86-4d9a-af8e-d3179a2c4214"
      },
      "source": [
        "model_knn = KNeighborsClassifier(algorithm='auto', leaf_size=30, metric='minkowski', metric_params=None, n_jobs=None, n_neighbors=14, p=2, weights='distance')\n",
        "y_pred_knn, y_proba_knn = prediction(model_knn)"
      ],
      "execution_count": 77,
      "outputs": [
        {
          "output_type": "display_data",
          "data": {
            "image/png": "[encoded data removed]",
            "text/plain": [
              "<Figure size 432x288 with 2 Axes>"
            ]
          },
          "metadata": {
            "tags": [],
            "needs_background": "light"
          }
        }
      ]
    },
    {
      "cell_type": "markdown",
      "metadata": {
        "id": "V0AUvtFYV6A3"
      },
      "source": [
        "<a id=\"4-1-4-svc\"></a>\n",
        "#### SVC"
      ]
    },
    {
      "cell_type": "code",
      "metadata": {
        "colab": {
          "base_uri": "https://localhost:8080/",
          "height": 297
        },
        "id": "VeAwJxA598n9",
        "outputId": "437a3268-d955-4049-dd2c-259cbb1664af"
      },
      "source": [
        "model_svc = SVC(C=10, gamma=0.01, kernel='rbf', random_state=10)\n",
        "y_pred_svc, y_proba_svc = prediction(model_svc, True)"
      ],
      "execution_count": 78,
      "outputs": [
        {
          "output_type": "display_data",
          "data": {
            "image/png": "[encoded data removed]",
            "text/plain": [
              "<Figure size 432x288 with 2 Axes>"
            ]
          },
          "metadata": {
            "tags": [],
            "needs_background": "light"
          }
        }
      ]
    },
    {
      "cell_type": "markdown",
      "metadata": {
        "id": "6Pus06SMWTNW"
      },
      "source": [
        "<a id=\"4-1-5-rf\"></a>\n",
        "#### Random Forest"
      ]
    },
    {
      "cell_type": "code",
      "metadata": {
        "colab": {
          "base_uri": "https://localhost:8080/",
          "height": 297
        },
        "id": "DLvaEkP_9-DP",
        "outputId": "f8dab791-65d2-45ef-8c7d-e11b8b11d5fd"
      },
      "source": [
        "model_rf = RandomForestClassifier(bootstrap=False, max_depth=50, max_features=10, min_samples_leaf=5, min_samples_split=8, n_estimators=100, random_state=10)\n",
        "y_pred_rf, y_proba_rf = prediction(model_rf)"
      ],
      "execution_count": 79,
      "outputs": [
        {
          "output_type": "display_data",
          "data": {
            "image/png": "[encoded data removed]",
            "text/plain": [
              "<Figure size 432x288 with 2 Axes>"
            ]
          },
          "metadata": {
            "tags": [],
            "needs_background": "light"
          }
        }
      ]
    },
    {
      "cell_type": "markdown",
      "metadata": {
        "id": "K1PPTVHbWoOz"
      },
      "source": [
        "<a id=\"4-1-6-nn\"></a>\n",
        "#### Neural Network"
      ]
    },
    {
      "cell_type": "code",
      "metadata": {
        "id": "2ejJDaD1aQ5o",
        "colab": {
          "base_uri": "https://localhost:8080/",
          "height": 297
        },
        "outputId": "a8a6d222-3fcc-45ec-f69e-610ebb57874f"
      },
      "source": [
        "model_mlp = MLPClassifier(alpha=0.05, hidden_layer_sizes=(100, ), activation='relu', solver='adam', max_iter=100)\n",
        "y_pred_mlp, y_proba_mlp = prediction(model_mlp)"
      ],
      "execution_count": 80,
      "outputs": [
        {
          "output_type": "display_data",
          "data": {
            "image/png": "[encoded data removed]",
            "text/plain": [
              "<Figure size 432x288 with 2 Axes>"
            ]
          },
          "metadata": {
            "tags": [],
            "needs_background": "light"
          }
        }
      ]
    },
    {
      "cell_type": "markdown",
      "metadata": {
        "id": "AutWCPDRrCm-"
      },
      "source": [
        "<a id=\"4-1-7-ensemble\"></a>\n",
        "#### Ensemble Model"
      ]
    },
    {
      "cell_type": "code",
      "metadata": {
        "colab": {
          "base_uri": "https://localhost:8080/"
        },
        "id": "He4OchuzmDJn",
        "outputId": "6a624b44-7322-4d78-cf9a-86ba6f7858a1"
      },
      "source": [
        "# ensemble model\n",
        "\n",
        "ensemble_proba = (y_proba_dt + y_proba_knn + y_proba_lr + y_proba_svc + y_proba_rf + y_proba_mlp) / 5\n",
        "\n",
        "y_pred_ens = []\n",
        "\n",
        "for y in ensemble_proba:\n",
        "    y_pred = np.where(y == np.amax(y))[0][0]\n",
        "    y_pred_ens.append(y_pred)\n",
        "\n",
        "y_pred_ens = np.array(y_pred_ens)\n",
        "\n",
        "tp = tn = fp = fn = 0\n",
        "\n",
        "for i, real in enumerate(y_test, start=0):\n",
        "  pred = y_pred_ens[i]\n",
        "  if (real == 1 and pred == 1):\n",
        "    tp += 1\n",
        "  elif (real == 0 and pred == 0):\n",
        "    tn += 1\n",
        "  elif (real == 0 and pred == 1):\n",
        "    fp += 1\n",
        "  else:\n",
        "    fn += 1\n",
        "\n",
        "precision_1 = tp / (tp + fp)\n",
        "recall_1 = tp / (tp + fn)\n",
        "f1_1 = 2 * precision_1 * recall_1 / (precision_1 + recall_1)\n",
        "\n",
        "precision_0 = tn / (tn + fn)\n",
        "recall_0 = tn / (tn + fp)\n",
        "f1_0 = 2 * precision_0 * recall_0 / (precision_0 + recall_0)\n",
        "\n",
        "for var in ['tp','fp','tn','fn', '', 'precision_1', 'recall_1', 'f1_1', '', 'precision_0', 'recall_0', 'f1_0']:\n",
        "    if var == '':\n",
        "      print()\n",
        "    else:\n",
        "      print(var + \":         \" + str(vars()[var]))"
      ],
      "execution_count": 81,
      "outputs": [
        {
          "output_type": "stream",
          "text": [
            "tp:         1403\n",
            "fp:         109\n",
            "tn:         374\n",
            "fn:         0\n",
            "\n",
            "precision_1:         0.9279100529100529\n",
            "recall_1:         1.0\n",
            "f1_1:         0.962607204116638\n",
            "\n",
            "precision_0:         1.0\n",
            "recall_0:         0.7743271221532091\n",
            "f1_0:         0.8728121353558926\n"
          ],
          "name": "stdout"
        }
      ]
    },
    {
      "cell_type": "markdown",
      "metadata": {
        "id": "oYRKUyxDYGF3"
      },
      "source": [
        "<a id=\"4-1-8-eva\"></a>\n",
        "#### Evaluation"
      ]
    },
    {
      "cell_type": "code",
      "metadata": {
        "id": "VRc8zuET_dVM"
      },
      "source": [
        "def display_eval_metrics(precision_1, recall_1, f1_1, precision_0, recall_0, f1_0):\n",
        "  print()\n",
        "  for var in display_eval_metrics.__code__.co_varnames:\n",
        "    if var == \"precision_0\":\n",
        "      print()\n",
        "    if var == \"var\":\n",
        "      continue\n",
        "    print(var + \": \" + str(vars()[var]))\n",
        "  print(\"------------------------------------------------------------------------\\n\")\n",
        "\n",
        "\n",
        "def get_eval_metrics(cm):\n",
        "  tp = cm[1][1]\n",
        "  tn = cm[0][0]\n",
        "  fp = cm[0][1]\n",
        "  fn = cm[1][0]\n",
        "\n",
        "  precision_1 = tp / (tp + fp)\n",
        "  recall_1 = tp / (tp + fn)\n",
        "  f1_1 = (2 * precision_1 * recall_1) / (precision_1 + recall_1)\n",
        "\n",
        "  precision_0 = tn / (tn + fn)\n",
        "  recall_0 = tn / (tn + fp)\n",
        "  f1_0 = (2 * precision_0 * recall_0) / (precision_0 + recall_0)\n",
        "\n",
        "  return precision_1, recall_1, f1_1, precision_0, recall_0, f1_0\n",
        "\n",
        "\n",
        "def draw_roc_curve(predict_obj_list):\n",
        "\n",
        "  for predict_obj in predict_obj_list:\n",
        "    model_name = predict_obj[0]\n",
        "    model_pred = predict_obj[1]\n",
        "\n",
        "    fpr, tpr, thresholds = roc_curve(y_test.round(0).values.tolist(), model_pred.round(2).tolist(), drop_intermediate=False)\n",
        "    auc_ = auc(fpr, tpr)\n",
        "    plt.plot(fpr, tpr, label = model_name + ' ROC curve (AUC = %0.2f)' % auc_);\n",
        "\n",
        "  plt.legend(loc=\"lower right\")\n",
        "  plt.xlabel('False Positive Rate')\n",
        "  plt.ylabel('True Positive Rate');\n",
        " \n",
        "\n",
        "def get_cross_val_eval(model_name, model):\n",
        "\n",
        "  k = 10\n",
        "  kf = KFold(n_splits=k, random_state=None)\n",
        "  \n",
        "  acc_score = []\n",
        "  \n",
        "  X = nonSequentialData\n",
        "  y = label\n",
        "\n",
        "  precision_1_list = []\n",
        "  recall_1_list = []\n",
        "  f1_1_list = []\n",
        "  precision_0_list = []\n",
        "  recall_0_list = []\n",
        "  f1_0_list = []\n",
        "\n",
        "  for train_index , test_index in kf.split(X):\n",
        "      X_train , X_test = X.iloc[train_index,:],X.iloc[test_index,:]\n",
        "      y_train , y_test = y[train_index] , y[test_index]\n",
        "      \n",
        "      model.fit(X_train, y_train)\n",
        "      \n",
        "      pred_values = model.predict(X_test)\n",
        "      \n",
        "      acc = accuracy_score(pred_values , y_test)\n",
        "      acc_score.append(acc)\n",
        "      \n",
        "      cm1 = cm(y_test, pred_values)\n",
        "\n",
        "      precision_1, recall_1, f1_1, precision_0, recall_0, f1_0 = get_eval_metrics(cm1)\n",
        "\n",
        "      precision_1_list.append(precision_1)\n",
        "      recall_1_list.append(recall_1)\n",
        "      f1_1_list.append(f1_1)\n",
        "      precision_0_list.append(precision_0)\n",
        "      recall_0_list.append(recall_0)\n",
        "      f1_0_list.append(f1_0)\n",
        "\n",
        "  print(\"*** \" + model_name + \" - average metrics\\n\")\n",
        "\n",
        "  avg_acc_score = sum(acc_score)/k\n",
        "  \n",
        "  print('Avg accuracy : {}'.format(avg_acc_score))\n",
        "  display_eval_metrics(mean(precision_1_list), mean(recall_1_list), mean(f1_1_list), mean(precision_0_list), mean(recall_0_list), mean(f1_0_list))  \n"
      ],
      "execution_count": 82,
      "outputs": []
    },
    {
      "cell_type": "code",
      "metadata": {
        "colab": {
          "base_uri": "https://localhost:8080/",
          "height": 278
        },
        "id": "Aeb1igVPYYud",
        "outputId": "2c7fe4b3-acd7-4df4-dcca-c4171ae47f32"
      },
      "source": [
        "draw_roc_curve([\n",
        "     (\"KNN\", y_pred_knn), \n",
        "     (\"RF\", y_pred_rf), \n",
        "     (\"LR\", y_pred_svc), \n",
        "     (\"SCV\", y_pred_svc), \n",
        "     (\"MLP\", y_pred_mlp),\n",
        "     (\"ENS\", y_pred_ens)\n",
        "])"
      ],
      "execution_count": 83,
      "outputs": [
        {
          "output_type": "display_data",
          "data": {
            "image/png": "[encoded data removed]",
            "text/plain": [
              "<Figure size 432x288 with 1 Axes>"
            ]
          },
          "metadata": {
            "tags": [],
            "needs_background": "light"
          }
        }
      ]
    },
    {
      "cell_type": "code",
      "metadata": {
        "colab": {
          "base_uri": "https://localhost:8080/"
        },
        "id": "pjADTJpCLMuL",
        "outputId": "3ccce7e4-04ad-4f86-d4b3-613101cb3e52"
      },
      "source": [
        "get_cross_val_eval(\"MLP\", model_mlp)\n",
        "get_cross_val_eval(\"KNN\", model_knn)\n",
        "get_cross_val_eval(\"RF\", model_rf)\n",
        "get_cross_val_eval(\"SVC\", model_svc)\n",
        "get_cross_val_eval(\"DT\", model_dt)\n",
        "get_cross_val_eval(\"LR\", model_lr)"
      ],
      "execution_count": 84,
      "outputs": [
        {
          "output_type": "stream",
          "text": [
            "*** MLP - average metrics\n",
            "\n",
            "Avg accuracy : 0.7568782720524947\n",
            "\n",
            "precision_1: nan\n",
            "recall_1: 0.8984480164460262\n",
            "f1_1: nan\n",
            "\n",
            "precision_0: 0.8890691022018544\n",
            "recall_0: 0.22554484542615455\n",
            "f1_0: 0.2591793146420037\n",
            "------------------------------------------------------------------------\n",
            "\n",
            "*** KNN - average metrics\n",
            "\n",
            "Avg accuracy : 0.9155063643636142\n",
            "\n",
            "precision_1: 0.9121564175396015\n",
            "recall_1: 0.991176848582898\n",
            "f1_1: 0.9469844810486979\n",
            "\n",
            "precision_0: 0.9443680794196259\n",
            "recall_0: 0.657496693630882\n",
            "f1_0: 0.745869487101064\n",
            "------------------------------------------------------------------------\n",
            "\n",
            "*** RF - average metrics\n",
            "\n",
            "Avg accuracy : 0.9813894261440158\n",
            "\n",
            "precision_1: 0.9768958274187688\n",
            "recall_1: 0.99800796812749\n",
            "f1_1: 0.9866135783507021\n",
            "\n",
            "precision_0: 0.9913793103448276\n",
            "recall_0: 0.9467275817302636\n",
            "f1_0: 0.9661626528042888\n",
            "------------------------------------------------------------------------\n",
            "\n",
            "*** SVC - average metrics\n",
            "\n",
            "Avg accuracy : 0.9565711927738902\n",
            "\n",
            "precision_1: 0.9551630990855944\n",
            "recall_1: 0.9926160635887384\n",
            "f1_1: 0.9710810371913017\n",
            "\n",
            "precision_0: 0.9692121212121212\n",
            "recall_0: 0.8720983343236395\n",
            "f1_0: 0.9033725446396202\n",
            "------------------------------------------------------------------------\n",
            "\n",
            "*** DT - average metrics\n",
            "\n",
            "Avg accuracy : 0.9474719755349204\n",
            "\n",
            "precision_1: 0.9818523762130381\n",
            "recall_1: 0.950597609561753\n",
            "f1_1: 0.9572949749471711\n",
            "\n",
            "precision_0: 0.9336898395721925\n",
            "recall_0: 0.9662124406910568\n",
            "f1_0: 0.9307981300282671\n",
            "------------------------------------------------------------------------\n",
            "\n",
            "*** LR - average metrics\n",
            "\n",
            "Avg accuracy : 0.7637357852419674\n",
            "\n",
            "precision_1: 0.7637357852419673\n",
            "recall_1: 1.0\n",
            "f1_1: 0.861785318873847\n",
            "\n",
            "precision_0: nan\n",
            "recall_0: 0.0\n",
            "f1_0: nan\n",
            "------------------------------------------------------------------------\n",
            "\n"
          ],
          "name": "stdout"
        }
      ]
    },
    {
      "cell_type": "code",
      "metadata": {
        "id": "w9dE79CBQT-W"
      },
      "source": [
        ""
      ],
      "execution_count": 84,
      "outputs": []
    },
    {
      "cell_type": "markdown",
      "metadata": {
        "id": "SkdORcLNZNRj"
      },
      "source": [
        "<a id=\"4-2-seq\"></a>\n",
        "### Sequential Models"
      ]
    },
    {
      "cell_type": "markdown",
      "metadata": {
        "id": "K_hl2nsasRDK"
      },
      "source": [
        "<a id=\"4-2-1-seq-data\"></a>\n",
        "#### Creating Sequential Data Structure"
      ]
    },
    {
      "cell_type": "code",
      "metadata": {
        "id": "D5emsub7sZqn"
      },
      "source": [
        "def format_date(raw_date):\n",
        "    processed_data = parser.parse(str(raw_date))\n",
        "    return processed_data\n",
        "\n",
        "date_column = sequentialData.apply(lambda row: format_date(row[\"recorddate_key\"]), axis=1)\n",
        "sequentialData[\"recorddate_key\"] = date_column\n",
        "\n",
        "sequentialData = sequentialData.sort_values(['EmployeeID', 'recorddate_key'], ascending=[True, True])\n",
        "\n",
        "employee_list = sequentialData[\"EmployeeID\"].unique()\n",
        "\n",
        "structured_data = []\n",
        "label_list = []\n",
        "\n",
        "max_len = 0\n",
        "number_of_features = 6\n",
        "for employee_id in employee_list:\n",
        "    employee_frame = sequentialData.loc[sequentialData['EmployeeID'] == employee_id]\n",
        "    if(employee_frame.shape[0] > max_len):\n",
        "        max_len = employee_frame.shape[0]\n",
        "\n",
        "# creating a tensor for each customer\n",
        "for i, employee_id in enumerate(employee_list, start=0):\n",
        "\n",
        "    employee_frame = sequentialData.loc[sequentialData['EmployeeID'] == employee_id]\n",
        "    last_status_value = employee_frame.iloc[[-1]][\"status\"].values[0]\n",
        "    employee_frame = employee_frame.drop(columns=['EmployeeID', 'recorddate_key', 'status'])\n",
        "\n",
        "    tensor = np.zeros((max_len, employee_frame.shape[1]))\n",
        "\n",
        "    count = 0\n",
        "    for index, row in employee_frame.iterrows():  \n",
        "        # padding based on max_len\n",
        "        tensor[max_len - employee_frame.shape[0] + count] = row.to_numpy()\n",
        "        count += 1\n",
        "        \n",
        "    structured_data.append(tensor)    \n",
        "    label_list.append(last_status_value)    \n",
        "\n",
        "structured_data = np.array(structured_data)\n",
        "label_list = np.array(label_list)"
      ],
      "execution_count": 85,
      "outputs": []
    },
    {
      "cell_type": "code",
      "metadata": {
        "id": "9r1lZKKzs7T3"
      },
      "source": [
        "# Splits train test data\n",
        "train_X, test_X, train_y, test_y = train_test_split(structured_data, label_list, test_size=0.2, random_state=42)"
      ],
      "execution_count": 86,
      "outputs": []
    },
    {
      "cell_type": "markdown",
      "metadata": {
        "id": "K2ekLirItTkT"
      },
      "source": [
        "<a id=\"4-2-2-lstm\"></a>\n",
        "#### LSTM"
      ]
    },
    {
      "cell_type": "code",
      "metadata": {
        "id": "ckWWkf2jtS9K",
        "colab": {
          "base_uri": "https://localhost:8080/",
          "height": 1000
        },
        "outputId": "cf2ac634-816d-4ebf-a17c-a069874d2559"
      },
      "source": [
        "model_lstm = Sequential()\n",
        "model_lstm.add(LSTM(250, dropout=0.2, recurrent_dropout=0.2, input_shape=(train_X.shape[1], train_X.shape[2])))\n",
        "\n",
        "model_lstm.add(Dense(250, activation='relu'))\n",
        "model_lstm.add(Dense(2, activation='softmax')) #2 -> number of labels\n",
        "model_lstm.compile(loss='sparse_categorical_crossentropy', optimizer='adam', metrics=['accuracy'])\n",
        "\n",
        "# fit network\n",
        "early_stop = EarlyStopping(monitor=\"val_loss\", verbose=2, mode='min', patience=3)\n",
        "history = model_lstm.fit(train_X, train_y, epochs=30, batch_size=128, validation_data=(test_X, test_y), verbose=2, shuffle=True)\n",
        "\n",
        "# plot history\n",
        "pyplot.plot(history.history['accuracy'], label='train')\n",
        "pyplot.plot(history.history['val_accuracy'], label='test')\n",
        "pyplot.legend()\n",
        "pyplot.show()"
      ],
      "execution_count": 87,
      "outputs": [
        {
          "output_type": "stream",
          "text": [
            "Epoch 1/30\n",
            "40/40 - 7s - loss: 0.4607 - accuracy: 0.8035 - val_loss: 0.3828 - val_accuracy: 0.8393\n",
            "Epoch 2/30\n",
            "40/40 - 5s - loss: 0.3835 - accuracy: 0.8454 - val_loss: 0.3739 - val_accuracy: 0.8337\n",
            "Epoch 3/30\n",
            "40/40 - 5s - loss: 0.3597 - accuracy: 0.8494 - val_loss: 0.3722 - val_accuracy: 0.8369\n",
            "Epoch 4/30\n",
            "40/40 - 5s - loss: 0.3476 - accuracy: 0.8494 - val_loss: 0.3609 - val_accuracy: 0.8401\n",
            "Epoch 5/30\n",
            "40/40 - 5s - loss: 0.3369 - accuracy: 0.8516 - val_loss: 0.3603 - val_accuracy: 0.8353\n",
            "Epoch 6/30\n",
            "40/40 - 5s - loss: 0.3330 - accuracy: 0.8522 - val_loss: 0.3455 - val_accuracy: 0.8401\n",
            "Epoch 7/30\n",
            "40/40 - 5s - loss: 0.3305 - accuracy: 0.8528 - val_loss: 0.3647 - val_accuracy: 0.8178\n",
            "Epoch 8/30\n",
            "40/40 - 5s - loss: 0.3270 - accuracy: 0.8494 - val_loss: 0.3463 - val_accuracy: 0.8433\n",
            "Epoch 9/30\n",
            "40/40 - 5s - loss: 0.3199 - accuracy: 0.8544 - val_loss: 0.3636 - val_accuracy: 0.7908\n",
            "Epoch 10/30\n",
            "40/40 - 5s - loss: 0.3182 - accuracy: 0.8574 - val_loss: 0.3451 - val_accuracy: 0.8457\n",
            "Epoch 11/30\n",
            "40/40 - 5s - loss: 0.3177 - accuracy: 0.8611 - val_loss: 0.3460 - val_accuracy: 0.8154\n",
            "Epoch 12/30\n",
            "40/40 - 5s - loss: 0.3100 - accuracy: 0.8608 - val_loss: 0.3330 - val_accuracy: 0.8433\n",
            "Epoch 13/30\n",
            "40/40 - 5s - loss: 0.3045 - accuracy: 0.8643 - val_loss: 0.3362 - val_accuracy: 0.8369\n",
            "Epoch 14/30\n",
            "40/40 - 5s - loss: 0.3013 - accuracy: 0.8623 - val_loss: 0.3347 - val_accuracy: 0.8401\n",
            "Epoch 15/30\n",
            "40/40 - 5s - loss: 0.3050 - accuracy: 0.8627 - val_loss: 0.3425 - val_accuracy: 0.8457\n",
            "Epoch 16/30\n",
            "40/40 - 5s - loss: 0.2972 - accuracy: 0.8649 - val_loss: 0.3413 - val_accuracy: 0.8457\n",
            "Epoch 17/30\n",
            "40/40 - 5s - loss: 0.3007 - accuracy: 0.8621 - val_loss: 0.3462 - val_accuracy: 0.7765\n",
            "Epoch 18/30\n",
            "40/40 - 5s - loss: 0.3026 - accuracy: 0.8592 - val_loss: 0.3333 - val_accuracy: 0.8377\n",
            "Epoch 19/30\n",
            "40/40 - 5s - loss: 0.2971 - accuracy: 0.8687 - val_loss: 0.3267 - val_accuracy: 0.8457\n",
            "Epoch 20/30\n",
            "40/40 - 5s - loss: 0.2904 - accuracy: 0.8693 - val_loss: 0.3236 - val_accuracy: 0.8457\n",
            "Epoch 21/30\n",
            "40/40 - 5s - loss: 0.2913 - accuracy: 0.8675 - val_loss: 0.3486 - val_accuracy: 0.8353\n",
            "Epoch 22/30\n",
            "40/40 - 5s - loss: 0.2945 - accuracy: 0.8627 - val_loss: 0.3252 - val_accuracy: 0.8457\n",
            "Epoch 23/30\n",
            "40/40 - 5s - loss: 0.2901 - accuracy: 0.8655 - val_loss: 0.3247 - val_accuracy: 0.8441\n",
            "Epoch 24/30\n",
            "40/40 - 5s - loss: 0.2879 - accuracy: 0.8707 - val_loss: 0.3222 - val_accuracy: 0.8385\n",
            "Epoch 25/30\n",
            "40/40 - 5s - loss: 0.2889 - accuracy: 0.8705 - val_loss: 0.3255 - val_accuracy: 0.8393\n",
            "Epoch 26/30\n",
            "40/40 - 5s - loss: 0.2922 - accuracy: 0.8727 - val_loss: 0.3250 - val_accuracy: 0.8433\n",
            "Epoch 27/30\n",
            "40/40 - 5s - loss: 0.2794 - accuracy: 0.8725 - val_loss: 0.3249 - val_accuracy: 0.8433\n",
            "Epoch 28/30\n",
            "40/40 - 5s - loss: 0.2895 - accuracy: 0.8677 - val_loss: 0.3222 - val_accuracy: 0.8441\n",
            "Epoch 29/30\n",
            "40/40 - 5s - loss: 0.2808 - accuracy: 0.8739 - val_loss: 0.3263 - val_accuracy: 0.8361\n",
            "Epoch 30/30\n",
            "40/40 - 5s - loss: 0.2827 - accuracy: 0.8709 - val_loss: 0.3226 - val_accuracy: 0.8393\n"
          ],
          "name": "stdout"
        },
        {
          "output_type": "display_data",
          "data": {
            "image/png": "[encoded data removed]",
            "text/plain": [
              "<Figure size 432x288 with 1 Axes>"
            ]
          },
          "metadata": {
            "tags": [],
            "needs_background": "light"
          }
        }
      ]
    },
    {
      "cell_type": "markdown",
      "metadata": {
        "id": "fyuMZ0oRtfGf"
      },
      "source": [
        "<a id=\"4-2-3-gru\"></a>\n",
        "#### GRU"
      ]
    },
    {
      "cell_type": "code",
      "metadata": {
        "id": "phkYWovFtlaH",
        "colab": {
          "base_uri": "https://localhost:8080/",
          "height": 1000
        },
        "outputId": "e60b16bf-ba13-4875-edce-c55878f72178"
      },
      "source": [
        "model_gru = Sequential()\n",
        "model_gru.add(GRU(250, dropout=0.2, recurrent_dropout=0.2, input_shape=(train_X.shape[1], train_X.shape[2])))\n",
        "\n",
        "model_gru.add(Dense(250, activation='tanh'))\n",
        "model_gru.add(Dense(2, activation='softmax')) #2 -> number of labels\n",
        "model_gru.compile(loss='sparse_categorical_crossentropy', optimizer='adam', metrics=['accuracy'])\n",
        "\n",
        "# fit network\n",
        "early_stop=EarlyStopping(monitor=\"val_accuracy\",verbose=2,mode='max',patience=3)\n",
        "history = model_gru.fit(train_X, train_y, epochs=30, batch_size=64, validation_data=(test_X, test_y), verbose=2, shuffle=True)\n",
        "\n",
        "# plot history\n",
        "pyplot.plot(history.history['accuracy'], label='train')\n",
        "pyplot.plot(history.history['val_accuracy'], label='test')\n",
        "pyplot.legend()\n",
        "pyplot.show()"
      ],
      "execution_count": 88,
      "outputs": [
        {
          "output_type": "stream",
          "text": [
            "Epoch 1/30\n",
            "79/79 - 8s - loss: 0.4298 - accuracy: 0.8186 - val_loss: 0.4561 - val_accuracy: 0.8369\n",
            "Epoch 2/30\n",
            "79/79 - 6s - loss: 0.3925 - accuracy: 0.8391 - val_loss: 0.3643 - val_accuracy: 0.8393\n",
            "Epoch 3/30\n",
            "79/79 - 6s - loss: 0.3596 - accuracy: 0.8403 - val_loss: 0.3701 - val_accuracy: 0.8465\n",
            "Epoch 4/30\n",
            "79/79 - 6s - loss: 0.3499 - accuracy: 0.8478 - val_loss: 0.3548 - val_accuracy: 0.8433\n",
            "Epoch 5/30\n",
            "79/79 - 6s - loss: 0.3495 - accuracy: 0.8450 - val_loss: 0.3689 - val_accuracy: 0.8433\n",
            "Epoch 6/30\n",
            "79/79 - 6s - loss: 0.3214 - accuracy: 0.8542 - val_loss: 0.3332 - val_accuracy: 0.8441\n",
            "Epoch 7/30\n",
            "79/79 - 6s - loss: 0.3238 - accuracy: 0.8500 - val_loss: 0.3371 - val_accuracy: 0.8457\n",
            "Epoch 8/30\n",
            "79/79 - 6s - loss: 0.3139 - accuracy: 0.8534 - val_loss: 0.3388 - val_accuracy: 0.8369\n",
            "Epoch 9/30\n",
            "79/79 - 6s - loss: 0.3088 - accuracy: 0.8530 - val_loss: 0.3442 - val_accuracy: 0.8441\n",
            "Epoch 10/30\n",
            "79/79 - 6s - loss: 0.3014 - accuracy: 0.8627 - val_loss: 0.3367 - val_accuracy: 0.8425\n",
            "Epoch 11/30\n",
            "79/79 - 6s - loss: 0.3055 - accuracy: 0.8572 - val_loss: 0.3473 - val_accuracy: 0.8441\n",
            "Epoch 12/30\n",
            "79/79 - 6s - loss: 0.3072 - accuracy: 0.8532 - val_loss: 0.3334 - val_accuracy: 0.8441\n",
            "Epoch 13/30\n",
            "79/79 - 6s - loss: 0.3117 - accuracy: 0.8546 - val_loss: 0.3303 - val_accuracy: 0.8385\n",
            "Epoch 14/30\n",
            "79/79 - 6s - loss: 0.2987 - accuracy: 0.8608 - val_loss: 0.3633 - val_accuracy: 0.7780\n",
            "Epoch 15/30\n",
            "79/79 - 6s - loss: 0.3051 - accuracy: 0.8562 - val_loss: 0.3261 - val_accuracy: 0.8441\n",
            "Epoch 16/30\n",
            "79/79 - 6s - loss: 0.2959 - accuracy: 0.8606 - val_loss: 0.3391 - val_accuracy: 0.8441\n",
            "Epoch 17/30\n",
            "79/79 - 6s - loss: 0.3104 - accuracy: 0.8532 - val_loss: 0.3275 - val_accuracy: 0.8385\n",
            "Epoch 18/30\n",
            "79/79 - 6s - loss: 0.2906 - accuracy: 0.8669 - val_loss: 0.3252 - val_accuracy: 0.8441\n",
            "Epoch 19/30\n",
            "79/79 - 6s - loss: 0.2940 - accuracy: 0.8604 - val_loss: 0.3327 - val_accuracy: 0.8385\n",
            "Epoch 20/30\n",
            "79/79 - 6s - loss: 0.3016 - accuracy: 0.8590 - val_loss: 0.3356 - val_accuracy: 0.8441\n",
            "Epoch 21/30\n",
            "79/79 - 6s - loss: 0.2976 - accuracy: 0.8659 - val_loss: 0.3243 - val_accuracy: 0.8441\n",
            "Epoch 22/30\n",
            "79/79 - 6s - loss: 0.2887 - accuracy: 0.8655 - val_loss: 0.3502 - val_accuracy: 0.8353\n",
            "Epoch 23/30\n",
            "79/79 - 6s - loss: 0.2924 - accuracy: 0.8615 - val_loss: 0.3337 - val_accuracy: 0.8441\n",
            "Epoch 24/30\n",
            "79/79 - 6s - loss: 0.2941 - accuracy: 0.8635 - val_loss: 0.3235 - val_accuracy: 0.8457\n",
            "Epoch 25/30\n",
            "79/79 - 6s - loss: 0.2814 - accuracy: 0.8681 - val_loss: 0.3275 - val_accuracy: 0.8417\n",
            "Epoch 26/30\n",
            "79/79 - 6s - loss: 0.2904 - accuracy: 0.8685 - val_loss: 0.3256 - val_accuracy: 0.8441\n",
            "Epoch 27/30\n",
            "79/79 - 6s - loss: 0.2872 - accuracy: 0.8639 - val_loss: 0.3244 - val_accuracy: 0.8377\n",
            "Epoch 28/30\n",
            "79/79 - 6s - loss: 0.2887 - accuracy: 0.8596 - val_loss: 0.3385 - val_accuracy: 0.8353\n",
            "Epoch 29/30\n",
            "79/79 - 6s - loss: 0.2937 - accuracy: 0.8655 - val_loss: 0.3247 - val_accuracy: 0.8441\n",
            "Epoch 30/30\n",
            "79/79 - 6s - loss: 0.2883 - accuracy: 0.8623 - val_loss: 0.3336 - val_accuracy: 0.8425\n"
          ],
          "name": "stdout"
        },
        {
          "output_type": "display_data",
          "data": {
            "image/png": "[encoded data removed]",
            "text/plain": [
              "<Figure size 432x288 with 1 Axes>"
            ]
          },
          "metadata": {
            "tags": [],
            "needs_background": "light"
          }
        }
      ]
    },
    {
      "cell_type": "markdown",
      "metadata": {
        "id": "_vWBa1oLuCMn"
      },
      "source": [
        "<a id=\"4-2-4-ensemble\"></a>\n",
        "#### Ensemble Model"
      ]
    },
    {
      "cell_type": "code",
      "metadata": {
        "id": "kdex_JvVuF0o"
      },
      "source": [
        "yhat_lstm = model_lstm.predict(test_X, verbose=0)\n",
        "yhat_gru = model_gru.predict(test_X, verbose=0)\n",
        "\n",
        "yhat_ens = (yhat_gru + yhat_lstm) / 2"
      ],
      "execution_count": 89,
      "outputs": []
    },
    {
      "cell_type": "markdown",
      "metadata": {
        "id": "KuG_px6ctuaC"
      },
      "source": [
        "<a id=\"4-2-5-evaluation\"></a>\n",
        "#### Evaluation"
      ]
    },
    {
      "cell_type": "code",
      "metadata": {
        "id": "wmmWH49ftyHE"
      },
      "source": [
        "def evaluate_sequential_model(model_name, predictions, real_values):\n",
        "\n",
        "  test_X_predictions = []\n",
        "\n",
        "  for y in predictions:\n",
        "      y = np.round(y, decimals=3)\n",
        "      y_pred = np.where(y == np.amax(y))[0][0]\n",
        "      test_X_predictions.append(y_pred)\n",
        "\n",
        "  tp = tn = fp = fn = 0\n",
        "\n",
        "  for i, real in enumerate(real_values, start=0):\n",
        "    pred = test_X_predictions[i]\n",
        "    if (real == 1 and pred == 1):\n",
        "      tp += 1\n",
        "    elif (real == 0 and pred == 0):\n",
        "      tn += 1\n",
        "    elif (real == 0 and pred == 1):\n",
        "      fp += 1\n",
        "    else:\n",
        "      fn += 1\n",
        "\n",
        "\n",
        "  precision_1 = tp / (tp + fp)\n",
        "  recall_1 = tp / (tp + fn)\n",
        "  f1_1 = 2 * precision_1 * recall_1 / (precision_1 + recall_1)\n",
        "\n",
        "  precision_0 = tn / (tn + fn)\n",
        "  recall_0 = tn / (tn + fp)\n",
        "  f1_0 = 2 * precision_0 * recall_0 / (precision_0 + recall_0)\n",
        "\n",
        "  print(model_name)  \n",
        "  print(\"---\")\n",
        "\n",
        "  for var in ['tp','fp','tn','fn', '', 'precision_1', 'recall_1', 'f1_1', '', 'precision_0', 'recall_0', 'f1_0']:\n",
        "    if var == '':\n",
        "      print()\n",
        "    else:\n",
        "      print(var + \":         \" + str(vars()[var]))\n",
        "\n",
        "  print(\"-----------------------------------\\n\")"
      ],
      "execution_count": 90,
      "outputs": []
    },
    {
      "cell_type": "code",
      "metadata": {
        "id": "yHxxu-VNut9_",
        "colab": {
          "base_uri": "https://localhost:8080/"
        },
        "outputId": "4036cddf-2dac-4b29-9d8b-2cd7ae001454"
      },
      "source": [
        "evaluate_sequential_model(\"LSTM\", yhat_lstm, test_y)\n",
        "evaluate_sequential_model(\"GRU\", yhat_gru, test_y)\n",
        "evaluate_sequential_model(\"ENS\", yhat_ens, test_y)"
      ],
      "execution_count": 91,
      "outputs": [
        {
          "output_type": "stream",
          "text": [
            "LSTM\n",
            "---\n",
            "tp:         876\n",
            "fp:         125\n",
            "tn:         179\n",
            "fn:         77\n",
            "\n",
            "precision_1:         0.8751248751248751\n",
            "recall_1:         0.919202518363064\n",
            "f1_1:         0.8966223132036848\n",
            "\n",
            "precision_0:         0.69921875\n",
            "recall_0:         0.5888157894736842\n",
            "f1_0:         0.6392857142857143\n",
            "-----------------------------------\n",
            "\n",
            "GRU\n",
            "---\n",
            "tp:         922\n",
            "fp:         167\n",
            "tn:         137\n",
            "fn:         31\n",
            "\n",
            "precision_1:         0.8466483011937558\n",
            "recall_1:         0.9674711437565582\n",
            "f1_1:         0.9030362389813908\n",
            "\n",
            "precision_0:         0.8154761904761905\n",
            "recall_0:         0.4506578947368421\n",
            "f1_0:         0.5805084745762712\n",
            "-----------------------------------\n",
            "\n",
            "ENS\n",
            "---\n",
            "tp:         922\n",
            "fp:         167\n",
            "tn:         137\n",
            "fn:         31\n",
            "\n",
            "precision_1:         0.8466483011937558\n",
            "recall_1:         0.9674711437565582\n",
            "f1_1:         0.9030362389813908\n",
            "\n",
            "precision_0:         0.8154761904761905\n",
            "recall_0:         0.4506578947368421\n",
            "f1_0:         0.5805084745762712\n",
            "-----------------------------------\n",
            "\n"
          ],
          "name": "stdout"
        }
      ]
    }
  ]
}
